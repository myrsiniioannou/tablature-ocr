{
 "cells": [
  {
   "cell_type": "code",
   "execution_count": 1,
   "id": "31ddcbb3",
   "metadata": {},
   "outputs": [],
   "source": [
    "import matplotlib.pyplot as plt\n",
    "import numpy as np\n",
    "import cv2\n",
    "import pandas as pd\n",
    "import xml.etree.ElementTree as ET\n",
    "from jinja2 import Environment, FileSystemLoader, Template"
   ]
  },
  {
   "cell_type": "code",
   "execution_count": 2,
   "id": "4c645212",
   "metadata": {},
   "outputs": [],
   "source": [
    "file_loader = FileSystemLoader(\"templates\")\n",
    "env = Environment(loader = file_loader)\n",
    "\n",
    "\n",
    "base = env.get_template(\"base.xml\")\n",
    "# BASE\n",
    "# HEADER\n",
    "# MEASURE\n",
    "####CHORDS\n",
    "# HORIZONTAL BOX\n",
    "# MEASURE\n",
    "# VERTICAL BOX\n",
    "\n",
    "timeSignature = {}\n",
    "timeSignature[\"upper\"] = 2\n",
    "timeSignature[\"lower\"] = 4\n",
    "\n",
    "\n",
    "header_load = env.get_template(\"header.xml\")\n",
    "header = header_load.render()\n",
    "\n",
    "\n",
    "# Measure\n",
    "measure_load = env.get_template(\"measure.xml\")\n",
    "measure = measure_load.render(time_signature = timeSignature)\n",
    "\n",
    "\n",
    "\n",
    "# Horizontal Box\n",
    "hbox_load = env.get_template(\"hbox.xml\")\n",
    "hbox = hbox_load.render()\n",
    "# Vertical Box\n",
    "vbox_load = env.get_template(\"vbox.xml\")\n",
    "vbox = vbox_load.render()\n",
    "# FINAL CONTENT\n",
    "\n",
    "\n",
    "total_content = header + measure + hbox + measure +vbox\n",
    "output = base.render(content = total_content)\n",
    "\n",
    "# SAVE THE RENDERED FILE\n",
    "fileName = \"outputs/test2.mscx\"\n",
    "with open(fileName, \"w\") as fh:\n",
    "    fh.write(output)"
   ]
  },
  {
   "cell_type": "code",
   "execution_count": null,
   "id": "abbd1d1b",
   "metadata": {},
   "outputs": [],
   "source": []
  }
 ],
 "metadata": {
  "kernelspec": {
   "display_name": "Python 3 (ipykernel)",
   "language": "python",
   "name": "python3"
  },
  "language_info": {
   "codemirror_mode": {
    "name": "ipython",
    "version": 3
   },
   "file_extension": ".py",
   "mimetype": "text/x-python",
   "name": "python",
   "nbconvert_exporter": "python",
   "pygments_lexer": "ipython3",
   "version": "3.9.12"
  }
 },
 "nbformat": 4,
 "nbformat_minor": 5
}
